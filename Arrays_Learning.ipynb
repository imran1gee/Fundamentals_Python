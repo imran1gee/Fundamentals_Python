{
 "cells": [
  {
   "cell_type": "code",
   "execution_count": 1,
   "id": "148c50a9",
   "metadata": {},
   "outputs": [],
   "source": [
    "import numpy as np"
   ]
  },
  {
   "cell_type": "code",
   "execution_count": 2,
   "id": "09ce429a",
   "metadata": {},
   "outputs": [
    {
     "data": {
      "text/plain": [
       "(4,)"
      ]
     },
     "execution_count": 2,
     "metadata": {},
     "output_type": "execute_result"
    }
   ],
   "source": [
    "a = np.array([0,1,2,3])\n",
    "a.shape"
   ]
  },
  {
   "cell_type": "code",
   "execution_count": 3,
   "id": "8dc4d82c",
   "metadata": {},
   "outputs": [
    {
     "data": {
      "text/plain": [
       "(10,)"
      ]
     },
     "execution_count": 3,
     "metadata": {},
     "output_type": "execute_result"
    }
   ],
   "source": [
    "b = np.array(['a','b','c','d','e','A','B','C','D','E'])\n",
    "b.shape"
   ]
  },
  {
   "cell_type": "code",
   "execution_count": 5,
   "id": "dac21072",
   "metadata": {},
   "outputs": [
    {
     "name": "stdout",
     "output_type": "stream",
     "text": [
      "['a' 'b' 'c' 'd' 'e' 'A' 'B' 'C' 'D' 'E']\n",
      "['c' 'd' 'e' 'A' 'B']\n",
      "C\n"
     ]
    }
   ],
   "source": [
    "b1 = b[2:7:1]\n",
    "print(b)\n",
    "print(b1)\n",
    "print(b[7])"
   ]
  },
  {
   "cell_type": "code",
   "execution_count": 6,
   "id": "35712db9",
   "metadata": {},
   "outputs": [
    {
     "name": "stdout",
     "output_type": "stream",
     "text": [
      "['c' 'e' 'B']\n"
     ]
    }
   ],
   "source": [
    "b2 = b[2:7:2]\n",
    "print(b2)"
   ]
  },
  {
   "cell_type": "code",
   "execution_count": 7,
   "id": "93175aa4",
   "metadata": {},
   "outputs": [
    {
     "name": "stdout",
     "output_type": "stream",
     "text": [
      "['d' 'e' 'A' 'B' 'C' 'D' 'E']\n"
     ]
    }
   ],
   "source": [
    "b3 = b[3:]\n",
    "print(b3)"
   ]
  },
  {
   "cell_type": "code",
   "execution_count": 9,
   "id": "f19cf764",
   "metadata": {},
   "outputs": [
    {
     "name": "stdout",
     "output_type": "stream",
     "text": [
      "['a' 'b' 'c']\n"
     ]
    }
   ],
   "source": [
    "b4=b[:3]\n",
    "print(b4)"
   ]
  },
  {
   "cell_type": "code",
   "execution_count": 10,
   "id": "5146ada6",
   "metadata": {},
   "outputs": [
    {
     "name": "stdout",
     "output_type": "stream",
     "text": [
      "['a' 'b' 'c' 'd' 'e' 'A' 'B' 'C' 'D' 'E']\n"
     ]
    }
   ],
   "source": [
    "b5 = b[:]\n",
    "print(b5)"
   ]
  },
  {
   "cell_type": "code",
   "execution_count": 11,
   "id": "d503c70b",
   "metadata": {},
   "outputs": [
    {
     "name": "stdout",
     "output_type": "stream",
     "text": [
      "[-2 -5 -7 -2 -1]\n",
      "17\n",
      "3.4\n",
      "[ 4 25 49  4  1]\n"
     ]
    }
   ],
   "source": [
    "t = np.array([2,5,7,2,1])\n",
    "t1 = -t\n",
    "print(t1)\n",
    "t2 = sum(t)\n",
    "print(t2)\n",
    "t3 = np.mean(t)\n",
    "print(t3)\n",
    "t4 = t**2\n",
    "print(t4)"
   ]
  },
  {
   "cell_type": "code",
   "execution_count": 12,
   "id": "3a5eae3d",
   "metadata": {},
   "outputs": [
    {
     "name": "stdout",
     "output_type": "stream",
     "text": [
      "[25 15 30 35]\n",
      "125\n"
     ]
    }
   ],
   "source": [
    "z1 = np.array([5,3,6,7])\n",
    "z2 = np.array([9,4,2,8])\n",
    "z3 = 5*z1\n",
    "print(z3)\n",
    "z4 = np.dot(z1,z2)\n",
    "print(z4)"
   ]
  },
  {
   "cell_type": "code",
   "execution_count": 15,
   "id": "dd7ef15c",
   "metadata": {},
   "outputs": [],
   "source": [
    "def my_dot(a,b):\n",
    "    x =a.shape[0]\n",
    "    s = 0\n",
    "    for i in range(x):\n",
    "        s = s + a[i]*b[i]\n",
    "    return s"
   ]
  },
  {
   "cell_type": "code",
   "execution_count": 16,
   "id": "bb47ef7d",
   "metadata": {},
   "outputs": [
    {
     "data": {
      "text/plain": [
       "125"
      ]
     },
     "execution_count": 16,
     "metadata": {},
     "output_type": "execute_result"
    }
   ],
   "source": [
    "my_dot(z1,z2)"
   ]
  },
  {
   "cell_type": "code",
   "execution_count": 18,
   "id": "138926cc",
   "metadata": {},
   "outputs": [
    {
     "name": "stdout",
     "output_type": "stream",
     "text": [
      "249980.39165505738 0.22646403312683105\n",
      "249980.39165506174 0.0026590824127197266\n"
     ]
    }
   ],
   "source": [
    "import time\n",
    "l1 = np.random.rand(1000000)\n",
    "l2 = np.random.rand(1000000)\n",
    "time1 = time.time()\n",
    "lz_1 = my_dot(l1,l2)\n",
    "time2 = time.time()\n",
    "tot_time_1 = time2-time1\n",
    "print(lz_1,tot_time_1)\n",
    "time3 = time.time()\n",
    "lz_2 = np.dot(l1,l2)\n",
    "time4 = time.time()\n",
    "tot_time_2 = time4-time3\n",
    "print(lz_2,tot_time_2)\n"
   ]
  },
  {
   "cell_type": "code",
   "execution_count": 20,
   "id": "b523b9e5",
   "metadata": {},
   "outputs": [
    {
     "data": {
      "text/plain": [
       "(1,)"
      ]
     },
     "execution_count": 20,
     "metadata": {},
     "output_type": "execute_result"
    }
   ],
   "source": [
    "X = np.array([[1],[9],[8]])\n",
    "X[1].shape"
   ]
  },
  {
   "cell_type": "code",
   "execution_count": 21,
   "id": "7776512d",
   "metadata": {},
   "outputs": [
    {
     "data": {
      "text/plain": [
       "()"
      ]
     },
     "execution_count": 21,
     "metadata": {},
     "output_type": "execute_result"
    }
   ],
   "source": [
    "W1 = [8]\n",
    "c = np.dot(X[1],W1)\n",
    "c.shape"
   ]
  },
  {
   "cell_type": "code",
   "execution_count": 23,
   "id": "62cac0b1",
   "metadata": {},
   "outputs": [
    {
     "name": "stdout",
     "output_type": "stream",
     "text": [
      "(1, 5) [[0. 0. 0. 0. 0.]]\n",
      "(3, 1) [[0.]\n",
      " [0.]\n",
      " [0.]]\n",
      "(1, 1) [[0.68867606]]\n"
     ]
    }
   ],
   "source": [
    "u = np.zeros((1,5))\n",
    "print(u.shape,u)\n",
    "u1 = np.zeros((3,1))\n",
    "print(u1.shape,u1)\n",
    "u2 = np.random.random_sample((1,1))\n",
    "print(u2.shape,u2)"
   ]
  },
  {
   "cell_type": "code",
   "execution_count": 24,
   "id": "1267ea51",
   "metadata": {},
   "outputs": [
    {
     "name": "stdout",
     "output_type": "stream",
     "text": [
      "(4, 5) [[0. 0. 0. 0. 0.]\n",
      " [0. 0. 0. 0. 0.]\n",
      " [0. 0. 0. 0. 0.]\n",
      " [0. 0. 0. 0. 0.]]\n"
     ]
    }
   ],
   "source": [
    "u4 = np.zeros((4,5))\n",
    "print(u4.shape,u4)"
   ]
  },
  {
   "cell_type": "code",
   "execution_count": 26,
   "id": "b7195df9",
   "metadata": {},
   "outputs": [
    {
     "name": "stdout",
     "output_type": "stream",
     "text": [
      "[[0 1]\n",
      " [2 3]\n",
      " [4 5]]\n",
      "()\n",
      "1\n"
     ]
    }
   ],
   "source": [
    "y = np.arange(6).reshape(-1,2)\n",
    "print(y)\n",
    "print(y[0,1].shape)\n",
    "print(y[0,1])"
   ]
  },
  {
   "cell_type": "code",
   "execution_count": 28,
   "id": "1b53ad22",
   "metadata": {},
   "outputs": [
    {
     "name": "stdout",
     "output_type": "stream",
     "text": [
      "5\n"
     ]
    }
   ],
   "source": [
    "print(y[2,1])"
   ]
  },
  {
   "cell_type": "code",
   "execution_count": 29,
   "id": "5f905024",
   "metadata": {},
   "outputs": [
    {
     "name": "stdout",
     "output_type": "stream",
     "text": [
      "[[ 0  1  2  3  4  5  6  7  8  9]\n",
      " [10 11 12 13 14 15 16 17 18 19]]\n"
     ]
    }
   ],
   "source": [
    "r1 = np.arange(20).reshape(-1,10)\n",
    "print(r1)"
   ]
  },
  {
   "cell_type": "code",
   "execution_count": 30,
   "id": "df86b1a7",
   "metadata": {},
   "outputs": [
    {
     "name": "stdout",
     "output_type": "stream",
     "text": [
      "[2 3 4 5 6]\n",
      "[[ 2  3  4  5  6]\n",
      " [12 13 14 15 16]]\n",
      "[[ 0  1  2  3  4  5  6  7  8  9]\n",
      " [10 11 12 13 14 15 16 17 18 19]]\n"
     ]
    }
   ],
   "source": [
    "r_1 = r1[0,2:7:1]\n",
    "print(r_1)\n",
    "r_2 = r1[:,2:7:1]\n",
    "print(r_2)\n",
    "r_3 = r1[:,:]\n",
    "print(r_3)"
   ]
  },
  {
   "cell_type": "code",
   "execution_count": 31,
   "id": "dff49288",
   "metadata": {},
   "outputs": [
    {
     "name": "stdout",
     "output_type": "stream",
     "text": [
      "[10 11 12 13 14 15 16 17 18 19]\n",
      "[10 11 12 13 14 15 16 17 18 19]\n"
     ]
    }
   ],
   "source": [
    "r_4 = r1[1,:]\n",
    "print(r_4)\n",
    "r_5 = r1[1]\n",
    "print(r_5)"
   ]
  },
  {
   "cell_type": "code",
   "execution_count": null,
   "id": "a2644204",
   "metadata": {},
   "outputs": [],
   "source": []
  }
 ],
 "metadata": {
  "kernelspec": {
   "display_name": "Python 3 (ipykernel)",
   "language": "python",
   "name": "python3"
  },
  "language_info": {
   "codemirror_mode": {
    "name": "ipython",
    "version": 3
   },
   "file_extension": ".py",
   "mimetype": "text/x-python",
   "name": "python",
   "nbconvert_exporter": "python",
   "pygments_lexer": "ipython3",
   "version": "3.9.12"
  }
 },
 "nbformat": 4,
 "nbformat_minor": 5
}
